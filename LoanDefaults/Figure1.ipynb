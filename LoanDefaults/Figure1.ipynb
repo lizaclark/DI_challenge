{
 "cells": [
  {
   "cell_type": "markdown",
   "metadata": {},
   "source": [
    "## Official Cohort Default Rates for Schools from the U.S. Department of Education\n",
    "Exploratory analysis<br>\n",
    "Elizabeth Clark<br>\n",
    "Feb. 5, 2018"
   ]
  },
  {
   "cell_type": "markdown",
   "metadata": {},
   "source": [
    "### Fig. 1: Cohort-to-cohort correlation between loan default rates"
   ]
  },
  {
   "cell_type": "code",
   "execution_count": null,
   "metadata": {},
   "outputs": [],
   "source": [
    "import pandas as pd\n",
    "import matplotlib.pyplot as plt\n",
    "import seaborn as sns\n",
    "%matplotlib inline"
   ]
  },
  {
   "cell_type": "markdown",
   "metadata": {},
   "source": [
    "Data was downloaded from https://www2.ed.gov/offices/OSFAP/defaultmanagement/cdr.html: FY 2014, FY 2013, and FY 2012 official cohort default rates published for schools participating in the Title IV student financial assistance programs."
   ]
  },
  {
   "cell_type": "code",
   "execution_count": null,
   "metadata": {},
   "outputs": [],
   "source": [
    "# Load data\n",
    "xlsx = pd.ExcelFile('peps300.xlsx')\n",
    "title5_default = pd.read_excel(xlsx)\n",
    "\n",
    "# Check for duplicate records\n",
    "x1 = title5_default.drop_duplicates('OPEID')\n",
    "x2 = x1.drop_duplicates(['Name', 'City', 'State', 'Address'])\n",
    "if len(title5_default) == len(x1) == len(x2):\n",
    "    print('there are no duplicates.')"
   ]
  },
  {
   "cell_type": "code",
   "execution_count": null,
   "metadata": {},
   "outputs": [],
   "source": [
    "# Plot default rates from each fiscal year against one of them to\n",
    "# see if there is much year-to-year variation\n",
    "with sns.axes_style(\"white\"):\n",
    "    for y_yr, x_yr in zip([1, 1, 2], [3, 2, 3]):\n",
    "        x = title5_default['DRate {}'.format(x_yr)]\n",
    "        y = title5_default['DRate {}'.format(y_yr)]\n",
    "        xlabel = 'Default rate in FY{}'.format(\n",
    "            title5_default['Year {}'.format(x_yr)].loc[0])\n",
    "        ylabel = 'Default rate in FY{}'.format(\n",
    "            title5_default['Year {}'.format(y_yr)].loc[0])\n",
    "        sns.jointplot(x=x, y=y, kind='hex', color='b')"
   ]
  },
  {
   "cell_type": "code",
   "execution_count": null,
   "metadata": {},
   "outputs": [],
   "source": []
  }
 ],
 "metadata": {
  "kernelspec": {
   "display_name": "Python 3",
   "language": "python",
   "name": "python3"
  },
  "language_info": {
   "codemirror_mode": {
    "name": "ipython",
    "version": 3
   },
   "file_extension": ".py",
   "mimetype": "text/x-python",
   "name": "python",
   "nbconvert_exporter": "python",
   "pygments_lexer": "ipython3",
   "version": "3.6.4"
  }
 },
 "nbformat": 4,
 "nbformat_minor": 2
}
